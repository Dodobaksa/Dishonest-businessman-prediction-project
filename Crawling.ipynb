{
 "cells": [
  {
   "cell_type": "code",
   "execution_count": 2,
   "metadata": {},
   "outputs": [],
   "source": [
    "from selenium import webdriver\n",
    "from selenium.webdriver.common.keys import Keys\n",
    "import time\n",
    "import pyperclip\n",
    "from selenium.common.exceptions import NoSuchElementException\n",
    "import pandas as pd"
   ]
  },
  {
   "cell_type": "markdown",
   "metadata": {},
   "source": [
    "# 부정당업자 리스트 만들기"
   ]
  },
  {
   "cell_type": "code",
   "execution_count": 3,
   "metadata": {},
   "outputs": [],
   "source": [
    "options = webdriver.ChromeOptions()\n",
    "# options.add_argument('--headless') \n",
    "# options.add_argument(\"--disable-extensions\")\n",
    "# options.add_argument(\"disable-infobars\") \n",
    "# options.add_argument(\"window-size=1920x1080\") \n",
    "options.add_argument(\"no-sandbox\")\n",
    "options.add_argument(\"disable-gpu\")\n",
    "options.add_argument(\"--lang=ko_KR\")\n",
    "options.add_argument('user-agent=Mozilla/5.0 (Windows NT 10.0; Win64; x64) AppleWebKit/537.36 (KHTML, like Gecko) Chrome/70.0.3538.77 Safari/537.36')"
   ]
  },
  {
   "cell_type": "code",
   "execution_count": 5,
   "metadata": {},
   "outputs": [],
   "source": [
    "driver = webdriver.Chrome()\n",
    "driver.implicitly_wait(3)\n",
    "driver.get('https://www.g2b.go.kr:8070/um/injustice/injusticeBizerList.do?whereAreYouFrom=ALL')"
   ]
  },
  {
   "cell_type": "code",
   "execution_count": 6,
   "metadata": {},
   "outputs": [],
   "source": [
    "def crolling():\n",
    "        for i in range(0,101):\n",
    "            try:\n",
    "                driver.find_elements_by_css_selector('a.btn_mdl>span')[i+1].click()\n",
    "                day = driver.find_element_by_xpath('/html/body/div[2]/div[2]/div[2]/table/tbody/tr/td[2]').text\n",
    "                cor_num = driver.find_element_by_xpath('/html/body/div[2]/div[2]/div[6]/table/tbody/tr[1]/td[2]').text\n",
    "                company = driver.find_element_by_xpath('/html/body/div[2]/div[2]/div[6]/table/tbody/tr[2]/td').text\n",
    "                reason = driver.find_element_by_xpath('/html/body/div[2]/div[2]/div[10]/table/tbody/tr[2]/td[2]').text\n",
    "                contract = driver.find_element_by_xpath('/html/body/div[2]/div[2]/div[10]/table/tbody/tr[8]/td').text\n",
    "                driver.back()\n",
    "            except IndexError:\n",
    "                day = \"\"\n",
    "                business = \"\"\n",
    "                company = \"\"\n",
    "                reason = \"\"\n",
    "            #time.sleep(1)\n",
    "            data = [day,cor_num,company,reason,contract]\n",
    "            results=[]\n",
    "            results.append(data)\n",
    "            df = pd.DataFrame(results, columns=['게시일자', '법인등록번호','상호명','조항호코드명','계약종류'])\n",
    "            #time.sleep(1)\n",
    "            df.to_csv('./real_부정당업자리스트.csv',mode='a',header=False,index=False)"
   ]
  },
  {
   "cell_type": "code",
   "execution_count": 7,
   "metadata": {},
   "outputs": [],
   "source": [
    "#첫페이지 크롤링\n",
    "#crolling()"
   ]
  },
  {
   "cell_type": "code",
   "execution_count": 8,
   "metadata": {},
   "outputs": [],
   "source": [
    "#중간 페이지 크롤링\n",
    "#for a in range(1,11):\n",
    "#    if a<9:\n",
    "#        crolling()\n",
    "#        driver.find_element_by_xpath('/html/body/div[2]/div[2]/div[3]/a['+str(a+2)+']').click()\n",
    "#    elif a%10==0:\n",
    "#        driver.find_element_by_class_name('next').click()"
   ]
  },
  {
   "cell_type": "code",
   "execution_count": 9,
   "metadata": {},
   "outputs": [],
   "source": [
    "#마지막페이지 크롤링\n",
    "#crolling()"
   ]
  },
  {
   "cell_type": "code",
   "execution_count": 11,
   "metadata": {},
   "outputs": [],
   "source": [
    "data = pd.read_csv('./real_부정당업자리스트.csv')\n",
    "data2 = data.dropna()\n",
    "data2.columns = ['게시날짜','corno','corpNm','부정당업이유','계약종류']\n",
    "data2.to_excel('./Real_부정_당업자_리스트.xlsx',index=False)"
   ]
  }
 ],
 "metadata": {
  "kernelspec": {
   "display_name": "Python 3 (ipykernel)",
   "language": "python",
   "name": "python3"
  },
  "language_info": {
   "codemirror_mode": {
    "name": "ipython",
    "version": 3
   },
   "file_extension": ".py",
   "mimetype": "text/x-python",
   "name": "python",
   "nbconvert_exporter": "python",
   "pygments_lexer": "ipython3",
   "version": "3.9.7"
  }
 },
 "nbformat": 4,
 "nbformat_minor": 4
}
