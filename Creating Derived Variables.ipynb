{
 "cells": [
  {
   "cell_type": "code",
   "execution_count": 7,
   "metadata": {},
   "outputs": [],
   "source": [
    "from selenium import webdriver\n",
    "from selenium.webdriver.common.keys import Keys\n",
    "import time\n",
    "import pyperclip\n",
    "from selenium.common.exceptions import NoSuchElementException\n",
    "import pandas as pd\n",
    "import urllib.request\n",
    "from tqdm import tqdm\n",
    "from selenium.common.exceptions import TimeoutException\n",
    "from selenium.common.exceptions import UnexpectedAlertPresentException"
   ]
  },
  {
   "cell_type": "code",
   "execution_count": 2,
   "metadata": {},
   "outputs": [],
   "source": [
    "import pandas as pd\n",
    "import tqdm"
   ]
  },
  {
   "cell_type": "code",
   "execution_count": 23,
   "metadata": {},
   "outputs": [],
   "source": [
    "import json\n",
    "import urllib.request\n",
    "import requests, xmltodict"
   ]
  },
  {
   "cell_type": "markdown",
   "metadata": {},
   "source": [
    "# 부정당업자 = 계약의 불체결  및 불이행으로 한정짓기"
   ]
  },
  {
   "cell_type": "code",
   "execution_count": 2,
   "metadata": {},
   "outputs": [],
   "source": [
    "data = pd.read_csv('./Real_부정당업자리스트.csv')\n",
    "data2 = data.dropna()\n",
    "data2.columns = ['게시날짜','corno','corpNm','부정당업이유','계약종류']"
   ]
  },
  {
   "cell_type": "code",
   "execution_count": 4,
   "metadata": {},
   "outputs": [],
   "source": [
    "data3 = data2[(data2['부정당업이유']=='계약의 불체결.불이행,주요계약조건 위반')|(data2['부정당업이유']=='계약의 부실.조잡.부당.부정이행') \\\n",
    "|(data2['부정당업이유']=='계약의 미체결.불이행')|(data2['부정당업이유']=='계약이행능력 심사 서류 미제출 또는 제출 후 심사 포기')\\\n",
    "|(data2['부정당업이유']=='계약의 불체결.불이행')]\n",
    "data3.reset_index(drop=True,inplace=True)"
   ]
  },
  {
   "cell_type": "markdown",
   "metadata": {},
   "source": [
    "# 부정당 제제 날짜구하기"
   ]
  },
  {
   "cell_type": "code",
   "execution_count": 6,
   "metadata": {},
   "outputs": [
    {
     "name": "stderr",
     "output_type": "stream",
     "text": [
      "<ipython-input-6-9bf046165337>:2: SettingWithCopyWarning: \n",
      "A value is trying to be set on a copy of a slice from a DataFrame.\n",
      "Try using .loc[row_indexer,col_indexer] = value instead\n",
      "\n",
      "See the caveats in the documentation: https://pandas.pydata.org/pandas-docs/stable/user_guide/indexing.html#returning-a-view-versus-a-copy\n",
      "  data3['년도']=''\n",
      "C:\\Users\\KISLAB03\\anaconda3\\lib\\site-packages\\IPython\\core\\interactiveshell.py:3418: SettingWithCopyWarning: \n",
      "A value is trying to be set on a copy of a slice from a DataFrame\n",
      "\n",
      "See the caveats in the documentation: https://pandas.pydata.org/pandas-docs/stable/user_guide/indexing.html#returning-a-view-versus-a-copy\n",
      "  exec(code_obj, self.user_global_ns, self.user_ns)\n"
     ]
    }
   ],
   "source": [
    "# 부정당\n",
    "data3['년도']=''\n",
    "for i in range(0,409):\n",
    "    data3['년도'][i]=data3['게시날짜'][i].split('/')[0]"
   ]
  },
  {
   "cell_type": "code",
   "execution_count": 7,
   "metadata": {},
   "outputs": [
    {
     "data": {
      "text/plain": [
       "2021    264\n",
       "2022    130\n",
       "2020     10\n",
       "2017      3\n",
       "2018      2\n",
       "Name: 년도, dtype: int64"
      ]
     },
     "execution_count": 7,
     "metadata": {},
     "output_type": "execute_result"
    }
   ],
   "source": [
    "data3['년도'].value_counts()"
   ]
  },
  {
   "cell_type": "code",
   "execution_count": 8,
   "metadata": {
    "scrolled": true
   },
   "outputs": [
    {
     "name": "stderr",
     "output_type": "stream",
     "text": [
      "<ipython-input-8-8b5f6d87ec26>:2: SettingWithCopyWarning: \n",
      "A value is trying to be set on a copy of a slice from a DataFrame.\n",
      "Try using .loc[row_indexer,col_indexer] = value instead\n",
      "\n",
      "See the caveats in the documentation: https://pandas.pydata.org/pandas-docs/stable/user_guide/indexing.html#returning-a-view-versus-a-copy\n",
      "  data3['영업이익']=''\n",
      "<ipython-input-8-8b5f6d87ec26>:3: SettingWithCopyWarning: \n",
      "A value is trying to be set on a copy of a slice from a DataFrame.\n",
      "Try using .loc[row_indexer,col_indexer] = value instead\n",
      "\n",
      "See the caveats in the documentation: https://pandas.pydata.org/pandas-docs/stable/user_guide/indexing.html#returning-a-view-versus-a-copy\n",
      "  data3['당기순이익']=''\n",
      "<ipython-input-8-8b5f6d87ec26>:4: SettingWithCopyWarning: \n",
      "A value is trying to be set on a copy of a slice from a DataFrame.\n",
      "Try using .loc[row_indexer,col_indexer] = value instead\n",
      "\n",
      "See the caveats in the documentation: https://pandas.pydata.org/pandas-docs/stable/user_guide/indexing.html#returning-a-view-versus-a-copy\n",
      "  data3['매출액']=''\n",
      "<ipython-input-8-8b5f6d87ec26>:5: SettingWithCopyWarning: \n",
      "A value is trying to be set on a copy of a slice from a DataFrame.\n",
      "Try using .loc[row_indexer,col_indexer] = value instead\n",
      "\n",
      "See the caveats in the documentation: https://pandas.pydata.org/pandas-docs/stable/user_guide/indexing.html#returning-a-view-versus-a-copy\n",
      "  data3['총자산']=''\n",
      "<ipython-input-8-8b5f6d87ec26>:6: SettingWithCopyWarning: \n",
      "A value is trying to be set on a copy of a slice from a DataFrame.\n",
      "Try using .loc[row_indexer,col_indexer] = value instead\n",
      "\n",
      "See the caveats in the documentation: https://pandas.pydata.org/pandas-docs/stable/user_guide/indexing.html#returning-a-view-versus-a-copy\n",
      "  data3['총자본']=''\n",
      "<ipython-input-8-8b5f6d87ec26>:7: SettingWithCopyWarning: \n",
      "A value is trying to be set on a copy of a slice from a DataFrame.\n",
      "Try using .loc[row_indexer,col_indexer] = value instead\n",
      "\n",
      "See the caveats in the documentation: https://pandas.pydata.org/pandas-docs/stable/user_guide/indexing.html#returning-a-view-versus-a-copy\n",
      "  data3['총부채']=''\n",
      "<ipython-input-8-8b5f6d87ec26>:8: SettingWithCopyWarning: \n",
      "A value is trying to be set on a copy of a slice from a DataFrame.\n",
      "Try using .loc[row_indexer,col_indexer] = value instead\n",
      "\n",
      "See the caveats in the documentation: https://pandas.pydata.org/pandas-docs/stable/user_guide/indexing.html#returning-a-view-versus-a-copy\n",
      "  data3['전기순이익']=''\n",
      "<ipython-input-8-8b5f6d87ec26>:9: SettingWithCopyWarning: \n",
      "A value is trying to be set on a copy of a slice from a DataFrame.\n",
      "Try using .loc[row_indexer,col_indexer] = value instead\n",
      "\n",
      "See the caveats in the documentation: https://pandas.pydata.org/pandas-docs/stable/user_guide/indexing.html#returning-a-view-versus-a-copy\n",
      "  data3['전기매출']=''\n",
      "<ipython-input-8-8b5f6d87ec26>:10: SettingWithCopyWarning: \n",
      "A value is trying to be set on a copy of a slice from a DataFrame.\n",
      "Try using .loc[row_indexer,col_indexer] = value instead\n",
      "\n",
      "See the caveats in the documentation: https://pandas.pydata.org/pandas-docs/stable/user_guide/indexing.html#returning-a-view-versus-a-copy\n",
      "  data3['전기자산']=''\n"
     ]
    }
   ],
   "source": [
    "# 손 크롤링 할 변수 목록\n",
    "data3['영업이익']=''\n",
    "data3['당기순이익']=''\n",
    "data3['매출액']=''\n",
    "data3['총자산']=''\n",
    "data3['총자본']=''\n",
    "data3['총부채']=''\n",
    "data3['전기순이익']=''\n",
    "data3['전기매출']=''\n",
    "data3['전기자산']=''"
   ]
  },
  {
   "cell_type": "code",
   "execution_count": 10,
   "metadata": {},
   "outputs": [],
   "source": [
    "# 중소기업 현황정보시스템에서 손으로 재무정보 손으로 긁어옴\n",
    "data3.to_excel('./부정당업자조사임도현.xlsx',index=False)"
   ]
  },
  {
   "cell_type": "markdown",
   "metadata": {},
   "source": [
    "# 정상업자 리스트에 법인번호 달아주기(인터넷 등기소 크롤링)"
   ]
  },
  {
   "cell_type": "code",
   "execution_count": 9,
   "metadata": {},
   "outputs": [],
   "source": [
    "from selenium import webdriver\n",
    "options = webdriver.ChromeOptions()\n",
    "# options.add_argument('--headless') \n",
    "# options.add_argument(\"--disable-extensions\")\n",
    "# options.add_argument(\"disable-infobars\") \n",
    "# options.add_argument(\"window-size=1920x1080\") \n",
    "options.add_argument(\"no-sandbox\")\n",
    "options.add_argument(\"disable-gpu\")\n",
    "options.add_argument(\"--lang=ko_KR\")\n",
    "options.add_argument('user-agent=Mozilla/5.0 (Windows NT 10.0; Win64; x64) AppleWebKit/537.36 (KHTML, like Gecko) Chrome/70.0.3538.77 Safari/537.36')"
   ]
  },
  {
   "cell_type": "code",
   "execution_count": 10,
   "metadata": {},
   "outputs": [],
   "source": [
    "#driver = webdriver.Chrome()\n",
    "#driver.implicitly_wait(3)\n",
    "#driver.get('http://www.iros.go.kr/PMainJ.jsp')"
   ]
  },
  {
   "cell_type": "code",
   "execution_count": 3,
   "metadata": {},
   "outputs": [],
   "source": [
    "# 조달정보개방포털-조달 업체 등록 내역에서 데이터 가져옴\n",
    "datum = pd.read_csv('./2016~2022조달업체.csv')"
   ]
  },
  {
   "cell_type": "code",
   "execution_count": 4,
   "metadata": {},
   "outputs": [],
   "source": [
    "datum3 = datum[['업체명','업체사업자등록번호','업체기업구분명','등록일자']]"
   ]
  },
  {
   "cell_type": "code",
   "execution_count": 15,
   "metadata": {},
   "outputs": [],
   "source": [
    "# 여러 PC에서 크롤링했기때문에 파일이 나눠져 있음"
   ]
  },
  {
   "cell_type": "code",
   "execution_count": 6,
   "metadata": {},
   "outputs": [],
   "source": [
    "#results=[]\n",
    "#for i in tqdm(range(0,35000)):\n",
    "#    try:\n",
    "#        driver.switch_to.default_content() #처음 상태로 되돌아옴\n",
    "#        iframe = driver.find_element_by_id('inputFrame')\n",
    "#        driver.switch_to.frame(iframe)\n",
    "#        elem2 = driver.find_element_by_xpath('//*[@id=\"SANGHO_NUM\"]')\n",
    "#        elem2.clear()\n",
    "#        \n",
    "#        elem = driver.find_element_by_xpath('//*[@id=\"SANGHO_NUM\"]')\n",
    "#        elem.send_keys(data3['업체명'][i])\n",
    "#        elem.send_keys(Keys.RETURN)\n",
    "#        \n",
    "#        driver.switch_to.default_content() #처음 상태로 되돌아옴\n",
    "#        \n",
    "#        iframe2 = driver.find_element_by_id('resultFrame')\n",
    "#        driver.switch_to.frame(iframe2)\n",
    "#        \n",
    "#        iframe2 = driver.find_element_by_id('frmOuterModal')\n",
    "#        driver.switch_to.frame(iframe2)\n",
    "#        \n",
    "#        driver.find_element_by_xpath('/html/body/div/div[2]/table[2]/tbody/tr[2]/td[8]/button').click()\n",
    "#        \n",
    "#        corno = driver.find_element_by_xpath('/html/body/div/form/div[1]/table/tbody/tr[1]/td[3]').text\n",
    "#        results.append(corno)\n",
    "#    except NoSuchElementException:\n",
    "#        corno=\"\"\n",
    "#        results.append(corno)\n",
    "#    except UnexpectedAlertPresentException:\n",
    "#        corno=''\n",
    "#        results.append(corno)"
   ]
  },
  {
   "cell_type": "code",
   "execution_count": 12,
   "metadata": {},
   "outputs": [],
   "source": [
    "#hue = pd.DataFrame(results,columns=['법인등록번호'])"
   ]
  },
  {
   "cell_type": "code",
   "execution_count": 13,
   "metadata": {},
   "outputs": [],
   "source": [
    "#hue2 =data3.iloc[0:35000,:]"
   ]
  },
  {
   "cell_type": "code",
   "execution_count": 14,
   "metadata": {},
   "outputs": [],
   "source": [
    "#hue2.reset_index(drop=True,inplace=True)\n",
    "#hue3 = pd.concat([hue,hue2],axis=1)"
   ]
  },
  {
   "cell_type": "markdown",
   "metadata": {},
   "source": [
    "# 각 pc에서 돌린 결과(pc1,pc2,pc3)결과 합치기"
   ]
  },
  {
   "cell_type": "code",
   "execution_count": 16,
   "metadata": {},
   "outputs": [],
   "source": [
    "pc1 = pd.read_excel('./pc1.xlsx')\n",
    "pc2 = pd.read_excel('./pc2.xlsx')"
   ]
  },
  {
   "cell_type": "code",
   "execution_count": 18,
   "metadata": {},
   "outputs": [],
   "source": [
    "#pc1.rename(columns={'사업자등록번호':'법인등록번호'},inplace=True)\n",
    "#allpc = pd.concat([pc1,pc2,hue],axis=0)\n",
    "#allpc['법인등록번호'].value_counts()"
   ]
  },
  {
   "cell_type": "code",
   "execution_count": 20,
   "metadata": {},
   "outputs": [],
   "source": [
    "#allpc2 = allpc[(allpc['법인등록번호']!='없음')&(allpc['법인등록번호']!='')]\n",
    "#allpc2.dropna(inplace=True)"
   ]
  },
  {
   "cell_type": "code",
   "execution_count": 21,
   "metadata": {},
   "outputs": [],
   "source": [
    "#allpc2['법인등록번호']=allpc2['법인등록번호'].str.replace('-','')\n",
    "#allpc2 = allpc2.drop_duplicates(['법인등록번호'],keep='first')\n",
    "#allpc2.reset_index(drop=True,inplace=True)\n",
    "#allpc2.to_excel('./정상업자_법인코드.xlsx',index=False)"
   ]
  },
  {
   "cell_type": "markdown",
   "metadata": {},
   "source": [
    "# 정상업자 리스트 재무정보 가져오기"
   ]
  },
  {
   "cell_type": "code",
   "execution_count": 22,
   "metadata": {},
   "outputs": [],
   "source": [
    "justice = pd.read_excel('./정상업자_법인코드.xlsx')\n",
    "justice.reset_index(drop=True,inplace=True)\n",
    "justice = justice.astype({'등록일자':'str'})"
   ]
  },
  {
   "cell_type": "code",
   "execution_count": 25,
   "metadata": {},
   "outputs": [],
   "source": [
    "#key = '****************************************************' #API KEY는 공개불가\n",
    "#url = 'http://apis.data.go.kr/1160100/service/GetFinaStatInfoService/getSummFinaStat'"
   ]
  },
  {
   "cell_type": "code",
   "execution_count": 31,
   "metadata": {},
   "outputs": [],
   "source": [
    "#df2 = []\n",
    "#c=0\n",
    "#d=0\n",
    "#for i in range(0,8705):\n",
    "#    try:\n",
    "#        params ={'serviceKey' : '***************', 'numOfRows' : '1', 'pageNo' : '1', 'resultType' : 'xml', 'crno' : justice['법인등록번호'][i],'bizYear' : int(justice['등록일자'][i][0:4])-1}\n",
    "#        \n",
    "#        response = requests.get(url, params=params).content\n",
    "#        \n",
    "#        dict = xmltodict.parse(response)\n",
    "#        \n",
    "#        dict['response']['body']['items']['item']\n",
    "#        \n",
    "#        jsonstring= json.dumps(dict['response']['body']['items']['item'],ensure_ascii=False)\n",
    "#        \n",
    "#        jsonobj = json.loads(jsonstring)\n",
    "#        \n",
    "#        df = pd.DataFrame([jsonobj])\n",
    "#        \n",
    "#        df.columns=(['기준일자','사업연도','법인코드','영업이익','자본금액','당기순이익','매출액','총자산','총자본','총부채','재무제표구분코드','구분코드명','부채비율','포괄손익계산금액'])\n",
    "#        df2.append(df)\n",
    "#    except TypeError:\n",
    "#        pass\n",
    "#        c=c+1\n",
    "#    except KeyError:\n",
    "#        pass\n",
    "#        d=d+1"
   ]
  },
  {
   "cell_type": "code",
   "execution_count": 27,
   "metadata": {},
   "outputs": [],
   "source": [
    "#jungsangsoo = pd.concat(df2)\n",
    "#jungsangsoo.reset_index(drop=True,inplace=True)"
   ]
  },
  {
   "cell_type": "code",
   "execution_count": 28,
   "metadata": {},
   "outputs": [],
   "source": [
    "#jungsangsoo['영업이익'] = pd.to_numeric(jungsangsoo['영업이익'])\n",
    "#jungsangsoo['자본금액'] = pd.to_numeric(jungsangsoo['자본금액'])\n",
    "#jungsangsoo['당기순이익'] = pd.to_numeric(jungsangsoo['당기순이익'])\n",
    "#jungsangsoo['매출액'] = pd.to_numeric(jungsangsoo['매출액'])\n",
    "#jungsangsoo['총자산'] = pd.to_numeric(jungsangsoo['총자산'])\n",
    "#jungsangsoo['총자본'] = pd.to_numeric(jungsangsoo['총자본'])\n",
    "#jungsangsoo['총부채'] = pd.to_numeric(jungsangsoo['총부채'])"
   ]
  },
  {
   "cell_type": "code",
   "execution_count": 29,
   "metadata": {},
   "outputs": [],
   "source": [
    "# 재무제표 전처리\n",
    "#for i in range(0,1699):\n",
    "#    if jungsangsoo['구분코드명'][i] == '연결요약재무제표':\n",
    "#        jungsangsoo['영업이익'][i] = jungsangsoo['영업이익'][i]*0.001\n",
    "#        jungsangsoo['자본금액'][i] = jungsangsoo['자본금액'][i]*0.001\n",
    "#        jungsangsoo['당기순이익'][i] = jungsangsoo['당기순이익'][i]*0.001\n",
    "#        jungsangsoo['매출액'][i] = jungsangsoo['매출액'][i]*0.001\n",
    "#        jungsangsoo['총자산'][i] = jungsangsoo['총자산'][i]*0.001\n",
    "#        jungsangsoo['총자본'][i] = jungsangsoo['총자본'][i]*0.001\n",
    "#        jungsangsoo['총부채'][i] = jungsangsoo['총부채'][i]*0.001\n",
    "#    elif jungsangsoo['구분코드명'][i] == '별도요약재무제표':\n",
    "#        jungsangsoo['영업이익'][i] = jungsangsoo['영업이익'][i]*0.001\n",
    "#        jungsangsoo['자본금액'][i] = jungsangsoo['자본금액'][i]*0.001\n",
    "#        jungsangsoo['당기순이익'][i] = jungsangsoo['당기순이익'][i]*0.001\n",
    "#        jungsangsoo['매출액'][i] = jungsangsoo['매출액'][i]*0.001\n",
    "#        jungsangsoo['총자산'][i] = jungsangsoo['총자산'][i]*0.001\n",
    "#        jungsangsoo['총자본'][i] = jungsangsoo['총자본'][i]*0.001\n",
    "#        jungsangsoo['총부채'][i] = jungsangsoo['총부채'][i]*0.001\n",
    "#    elif jungsangsoo['구분코드명'][i] == '요약연결재무제표':\n",
    "#        jungsangsoo['영업이익'][i] = jungsangsoo['영업이익'][i]*1000\n",
    "#        jungsangsoo['자본금액'][i] = jungsangsoo['자본금액'][i]*1000\n",
    "#        jungsangsoo['당기순이익'][i] = jungsangsoo['당기순이익'][i]*1000\n",
    "#        jungsangsoo['매출액'][i] = jungsangsoo['매출액'][i]*1000\n",
    "#        jungsangsoo['총자산'][i] = jungsangsoo['총자산'][i]*1000\n",
    "#        jungsangsoo['총자본'][i] = jungsangsoo['총자본'][i]*1000\n",
    "#        jungsangsoo['총부채'][i] = jungsangsoo['총부채'][i]*1000\n",
    "#    else:\n",
    "#        pass"
   ]
  },
  {
   "cell_type": "markdown",
   "metadata": {},
   "source": [
    "# 전기 재무제표 구하기"
   ]
  },
  {
   "cell_type": "code",
   "execution_count": 32,
   "metadata": {},
   "outputs": [],
   "source": [
    "url = 'http://apis.data.go.kr/1160100/service/GetFinaStatInfoService/getSummFinaStat'"
   ]
  },
  {
   "cell_type": "code",
   "execution_count": 33,
   "metadata": {},
   "outputs": [],
   "source": [
    "#df2 = []\n",
    "#c=0\n",
    "#for i in range(0,1699):\n",
    "#    try:\n",
    "#        params ={'serviceKey' : '***************', 'numOfRows' : '1', 'pageNo' : '1', 'resultType' : 'xml', 'crno' : jungsangsoo['법인코드'][i],'bizYear' : int(jungsangsoo['사업연도'][i])-1}\n",
    "#        \n",
    "#        response = requests.get(url, params=params).content\n",
    "#        \n",
    "#        dict = xmltodict.parse(response)\n",
    "#        \n",
    "#        dict['response']['body']['items']['item']\n",
    "#        \n",
    "#        jsonstring= json.dumps(dict['response']['body']['items']['item'],ensure_ascii=False)\n",
    "#        \n",
    "#        jsonobj = json.loads(jsonstring)\n",
    "#        \n",
    "#        df = pd.DataFrame([jsonobj])\n",
    "#        \n",
    "#        df.columns=(['기준일자','사업연도','법인코드','영업이익','자본금액','당기순이익','매출액','총자산','총자본','총부채','재무제표구분코드','구분코드명','부채비율','포괄손익계산금액'])\n",
    "#        df2.append(df)\n",
    "#    except TypeError:\n",
    "#        pass\n",
    "#        c=c+1"
   ]
  },
  {
   "cell_type": "code",
   "execution_count": 34,
   "metadata": {},
   "outputs": [],
   "source": [
    "#before =pd.concat(df2)"
   ]
  },
  {
   "cell_type": "code",
   "execution_count": 35,
   "metadata": {},
   "outputs": [],
   "source": [
    "#before['영업이익'] = pd.to_numeric(before['영업이익'])\n",
    "#before['자본금액'] = pd.to_numeric(before['자본금액'])\n",
    "#before['당기순이익'] = pd.to_numeric(before['당기순이익'])\n",
    "#before['매출액'] = pd.to_numeric(before['매출액'])\n",
    "#before['총자산'] = pd.to_numeric(before['총자산'])\n",
    "#before['총자본'] = pd.to_numeric(before['총자본'])\n",
    "#before['총부채'] = pd.to_numeric(before['총부채'])\n",
    "#before['법인코드'] = pd.to_numeric(before['법인코드'])"
   ]
  },
  {
   "cell_type": "code",
   "execution_count": 36,
   "metadata": {},
   "outputs": [],
   "source": [
    "#before.reset_index(drop=True,inplace=True)"
   ]
  },
  {
   "cell_type": "code",
   "execution_count": 37,
   "metadata": {},
   "outputs": [],
   "source": [
    "#전기재무제표 전치리\n",
    "#for i in range(0,1380):\n",
    "#    if (before['구분코드명'][i] == '연결요약재무제표'):\n",
    "#        before['영업이익'][i] = before['영업이익'][i]*0.001\n",
    "#        before['자본금액'][i] = before['자본금액'][i]*0.001\n",
    "#        before['당기순이익'][i] = before['당기순이익'][i]*0.001\n",
    "#        before['매출액'][i] = before['매출액'][i]*0.001\n",
    "#        before['총자산'][i] = before['총자산'][i]*0.001\n",
    "#        before['총자본'][i] = before['총자본'][i]*0.001\n",
    "#        before['총부채'][i] = before['총부채'][i]*0.001\n",
    "#    elif (before['구분코드명'][i] == '별도요약재무제표'):\n",
    "#        before['영업이익'][i] = before['영업이익'][i]*0.001\n",
    "#        before['자본금액'][i] = before['자본금액'][i]*0.001\n",
    "#        before['당기순이익'][i] = before['당기순이익'][i]*0.001\n",
    "#        before['매출액'][i] = before['매출액'][i]*0.001\n",
    "#        before['총자산'][i] = before['총자산'][i]*0.001\n",
    "#        before['총자본'][i] = before['총자본'][i]*0.001\n",
    "#        before['총부채'][i] = before['총부채'][i]*0.001\n",
    "#    elif (before['구분코드명'][i] == '요약연결재무제표'):\n",
    "#        before['영업이익'][i] = before['영업이익'][i]*1000\n",
    "#        before['자본금액'][i] = before['자본금액'][i]*1000\n",
    "#        before['당기순이익'][i] = before['당기순이익'][i]*1000\n",
    "#        before['매출액'][i] = before['매출액'][i]*1000\n",
    "#        before['총자산'][i] = before['총자산'][i]*1000\n",
    "#        before['총자본'][i] = before['총자본'][i]*1000\n",
    "#        before['총부채'][i] = before['총부채'][i]*1000\n",
    "#    else:\n",
    "#        pass"
   ]
  },
  {
   "cell_type": "code",
   "execution_count": 38,
   "metadata": {},
   "outputs": [],
   "source": [
    "#전기재무제표가 있는 행만 가져오기\n",
    "#jungsangsoo['전기자산']=''\n",
    "#jungsangsoo['전기매출']=''\n",
    "#jungsangsoo['전기순이익']=''\n",
    "#for i in range(0,1699):\n",
    "#    jungsangsoo['전기자산'][i] = before[jungsangsoo['법인코드'][i] == before['법인코드']]['총자산'].values\n",
    "#    jungsangsoo['전기매출'][i] = before[jungsangsoo['법인코드'][i] == before['법인코드']]['매출액'].values\n",
    "#    jungsangsoo['전기순이익'][i] = before[jungsangsoo['법인코드'][i] == before['법인코드']]['당기순이익'].values\n",
    "#    \n",
    "#    jungsangsoo['전기자산'][i] = jungsangsoo['전기자산'][i].tolist()\n",
    "#    jungsangsoo['전기매출'][i]= jungsangsoo['전기매출'][i].tolist()\n",
    "#    jungsangsoo['전기순이익'][i]= jungsangsoo['전기순이익'][i].tolist()\n",
    "#    \n",
    "#    try:\n",
    "#        jungsangsoo['전기자산'][i] = jungsangsoo['전기자산'][i][0]\n",
    "#        jungsangsoo['전기매출'][i]= jungsangsoo['전기매출'][i][0]\n",
    "#        jungsangsoo['전기순이익'][i]= jungsangsoo['전기순이익'][i][0]\n",
    "#    except IndexError:\n",
    "#        jungsangsoo['전기자산'][i] = \"\"\n",
    "#        jungsangsoo['전기매출'][i]= \"\"\n",
    "#        jungsangsoo['전기순이익'][i]= \"\""
   ]
  },
  {
   "cell_type": "code",
   "execution_count": 39,
   "metadata": {},
   "outputs": [],
   "source": [
    "#jungsangsoo2 = jungsangsoo[(jungsangsoo['전기자산']!='') & (jungsangsoo['전기매출']!='')& (jungsangsoo['전기순이익']!='')]\n",
    "#jungsangsoo2.reset_index(drop=True,inplace=True)"
   ]
  },
  {
   "cell_type": "code",
   "execution_count": 40,
   "metadata": {},
   "outputs": [],
   "source": [
    "#jung = jungsangsoo2[['법인코드','영업이익','당기순이익','매출액','총자산','총자본','총부채','전기순이익','전기매출','전기자산']]"
   ]
  },
  {
   "cell_type": "markdown",
   "metadata": {},
   "source": [
    "# 정상업체 업체명 달아주기"
   ]
  },
  {
   "cell_type": "code",
   "execution_count": 41,
   "metadata": {},
   "outputs": [],
   "source": [
    "justice = pd.read_excel('./정상업자_법인코드.xlsx')"
   ]
  },
  {
   "cell_type": "code",
   "execution_count": 43,
   "metadata": {},
   "outputs": [],
   "source": [
    "#justice[jung['법인코드'][1] == justice['법인등록번호']]['업체명'].values"
   ]
  },
  {
   "cell_type": "code",
   "execution_count": 44,
   "metadata": {},
   "outputs": [],
   "source": [
    "#jung['업체명'] = ''\n",
    "#for i in range(0,1380):\n",
    "#jung['업체명'][i] = justice[jung['법인코드'][i] == justice['법인등록번호']]['업체명'].values\n",
    "#jung['업체명'][i] = jung['업체명'][i].tolist()\n",
    "#jung['업체명'][i] = jung['업체명'][i][0]"
   ]
  },
  {
   "cell_type": "markdown",
   "metadata": {},
   "source": [
    "# 정상업체와 부정당업체 합치기"
   ]
  },
  {
   "cell_type": "code",
   "execution_count": 45,
   "metadata": {},
   "outputs": [],
   "source": [
    "do = pd.read_excel('./부정당업자조사임도현.xlsx')"
   ]
  },
  {
   "cell_type": "code",
   "execution_count": 46,
   "metadata": {},
   "outputs": [],
   "source": [
    "do.rename(columns={'corno':'법인코드','corpNm':'업체명'},inplace=True)\n",
    "Umdo1 = do.drop(['게시날짜','부정당업이유','계약종류'],axis=1)"
   ]
  },
  {
   "cell_type": "code",
   "execution_count": 49,
   "metadata": {},
   "outputs": [],
   "source": [
    "# 정상업체=0, 부정당업체=1 라벨달아주기\n",
    "#Umdo1['Unfair_duty'] = 1\n",
    "#jung['Unfair_duty']=0"
   ]
  },
  {
   "cell_type": "code",
   "execution_count": 51,
   "metadata": {},
   "outputs": [],
   "source": [
    "#Final_B = pd.concat([Umdo1,jung])\n",
    "#Final_B = Final_B.astype({'전기순이익':'int','전기매출':'int','전기자산':'int'})\n",
    "#Final_B.reset_index(drop=True,inplace=True)"
   ]
  },
  {
   "cell_type": "code",
   "execution_count": 52,
   "metadata": {},
   "outputs": [],
   "source": [
    "# 값이 0인행 1로 바꿔주기\n",
    "#for i in range(0,1610):\n",
    "#    if (Final_B['영업이익'][i]==0):\n",
    "#        Final_B['영업이익'][i]=1\n",
    "#    if (Final_B['당기순이익'][i]==0):\n",
    "#        Final_B['당기순이익'][i]=1\n",
    "#    if (Final_B['매출액'][i]==0):\n",
    "#        Final_B['매출액'][i]=1\n",
    "#    if (Final_B['총자산'][i]==0):\n",
    "#        Final_B['총자산'][i]=1\n",
    "#    if (Final_B['총자본'][i]==0):\n",
    "#        Final_B['총자본'][i]=1\n",
    "#    if (Final_B['총부채'][i]==0):\n",
    "#        Final_B['총부채'][i]=1\n",
    "#    if (Final_B['전기순이익'][i]==0):\n",
    "#        Final_B['전기순이익'][i]=1\n",
    "#    if (Final_B['전기매출'][i]==0):\n",
    "#        Final_B['전기매출'][i]=1\n",
    "#    if (Final_B['전기자산'][i]==0):\n",
    "#        Final_B['전기자산'][i]=1"
   ]
  },
  {
   "cell_type": "code",
   "execution_count": 53,
   "metadata": {},
   "outputs": [],
   "source": [
    "# 파생변수 만들기\n",
    "#Final_B['총자산증가율'] = (Final_B['총자산'] / Final_B['전기자산'])*100 - 100\n",
    "#Final_B['매출액증가율'] = (Final_B['매출액'] / Final_B['전기매출'])*100 - 100\n",
    "#Final_B['순이익증가율'] = (Final_B['당기순이익'] / Final_B['전기순이익'])*100 - 100\n",
    "#Final_B['영업이익율'] = (Final_B['영업이익'] / Final_B['매출액']) *100\n",
    "#Final_B['부채비율'] = (Final_B['총부채'] / Final_B['총자본'])*100\n",
    "#Final_B['총자본회전율'] = Final_B['매출액'] / Final_B['총자산']"
   ]
  },
  {
   "cell_type": "markdown",
   "metadata": {},
   "source": [
    "# 납품실적 구하기"
   ]
  },
  {
   "cell_type": "code",
   "execution_count": 54,
   "metadata": {},
   "outputs": [],
   "source": [
    "# 조달정보개방포털-종합 선택 항목별 조달실적 집계에서 데이터 받아와서 로드\n",
    "Delivery = pd.read_excel('./납품금액및실적.xlsx')"
   ]
  },
  {
   "cell_type": "code",
   "execution_count": 56,
   "metadata": {},
   "outputs": [],
   "source": [
    "#Final_B['납품실적 금액']=''\n",
    "#Final_B['납품실적 횟수']=''\n",
    "#for i in range(0,1610):\n",
    "#    Final_B['납품실적 금액'][i] = Delivery[Final_B['업체명'][i]==Delivery['업체명']]['공급금액'].values\n",
    "#    Final_B['납품실적 횟수'][i] = Delivery[Final_B['업체명'][i]==Delivery['업체명']]['공급건수'].values\n",
    "#    \n",
    "#    Final_B['납품실적 금액'][i] = Final_B['납품실적 금액'][i].tolist()\n",
    "#    Final_B['납품실적 횟수'][i]= Final_B['납품실적 횟수'][i].tolist()\n",
    "#    try:\n",
    "#        Final_B['납품실적 금액'][i] = Final_B['납품실적 금액'][i][0]\n",
    "#        Final_B['납품실적 횟수'][i]= Final_B['납품실적 횟수'][i][0]\n",
    "#    except IndexError:\n",
    "#        Final_B['납품실적 금액'][i] = 0\n",
    "#        Final_B['납품실적 횟수'][i] = 0"
   ]
  },
  {
   "cell_type": "code",
   "execution_count": 57,
   "metadata": {},
   "outputs": [],
   "source": [
    "#Finally = Final_B[['법인코드','업체명','Unfair_duty','총자산증가율','매출액증가율','순이익증가율','영업이익율','부채비율','총자본회전율','납품실적 금액','납품실적 횟수']]"
   ]
  },
  {
   "cell_type": "code",
   "execution_count": 58,
   "metadata": {},
   "outputs": [],
   "source": [
    "#Finally.to_excel('./최종완료데이터0222.xlsx',index=False)"
   ]
  }
 ],
 "metadata": {
  "kernelspec": {
   "display_name": "Python 3 (ipykernel)",
   "language": "python",
   "name": "python3"
  },
  "language_info": {
   "codemirror_mode": {
    "name": "ipython",
    "version": 3
   },
   "file_extension": ".py",
   "mimetype": "text/x-python",
   "name": "python",
   "nbconvert_exporter": "python",
   "pygments_lexer": "ipython3",
   "version": "3.9.7"
  }
 },
 "nbformat": 4,
 "nbformat_minor": 4
}
